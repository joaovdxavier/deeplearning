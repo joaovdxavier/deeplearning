{
  "nbformat": 4,
  "nbformat_minor": 0,
  "metadata": {
    "colab": {
      "name": "Work_Graded_1_unit.ipynb",
      "provenance": [],
      "collapsed_sections": [
        "cQl0B7vHGrLD"
      ],
      "toc_visible": true
    },
    "kernelspec": {
      "name": "python3",
      "display_name": "Python 3"
    }
  },
  "cells": [
    {
      "cell_type": "markdown",
      "metadata": {
        "id": "Vkxyyd83H5fs"
      },
      "source": [
        "#Using the CIFAR-10 dataset to image classification"
      ]
    },
    {
      "cell_type": "markdown",
      "metadata": {
        "id": "qKV9PFVbMNk-"
      },
      "source": [
        "This colab notebook contains the code we used to our problem of image classification. Our Medium article can be found here(adicionar link)."
      ]
    },
    {
      "cell_type": "markdown",
      "metadata": {
        "id": "4LpAi5lEGgJk"
      },
      "source": [
        "##Importing and installing libs and datasets"
      ]
    },
    {
      "cell_type": "code",
      "metadata": {
        "id": "BVvaWofkCOw6"
      },
      "source": [
        "import tensorflow as tf\n",
        "import numpy as np\n",
        "import matplotlib.pyplot as plt\n",
        "import h5py\n",
        "import sklearn\n",
        "import time\n",
        "import datetime\n",
        "import pytz\n",
        "from mlxtend.plotting import plot_decision_regions\n",
        "import seaborn as sns\n",
        "\n",
        "\n",
        "%matplotlib inline\n",
        "plt.rcParams['figure.figsize'] = (7.0, 4.0) # set default size of plots\n",
        "plt.rcParams['image.interpolation'] = 'nearest'\n",
        "plt.rcParams['image.cmap'] = 'gray'"
      ],
      "execution_count": null,
      "outputs": []
    },
    {
      "cell_type": "code",
      "metadata": {
        "colab": {
          "base_uri": "https://localhost:8080/"
        },
        "id": "X4v5O0WwNZrQ",
        "outputId": "b44399b9-f49a-4e56-ddb1-fccd3656ff4e"
      },
      "source": [
        "!pip install keras-tuner"
      ],
      "execution_count": null,
      "outputs": [
        {
          "output_type": "stream",
          "text": [
            "Collecting keras-tuner\n",
            "\u001b[?25l  Downloading https://files.pythonhosted.org/packages/20/ec/1ef246787174b1e2bb591c95f29d3c1310070cad877824f907faba3dade9/keras-tuner-1.0.2.tar.gz (62kB)\n",
            "\r\u001b[K     |█████▏                          | 10kB 14.3MB/s eta 0:00:01\r\u001b[K     |██████████▍                     | 20kB 16.2MB/s eta 0:00:01\r\u001b[K     |███████████████▋                | 30kB 8.8MB/s eta 0:00:01\r\u001b[K     |████████████████████▉           | 40kB 8.3MB/s eta 0:00:01\r\u001b[K     |██████████████████████████      | 51kB 5.2MB/s eta 0:00:01\r\u001b[K     |███████████████████████████████▎| 61kB 6.0MB/s eta 0:00:01\r\u001b[K     |████████████████████████████████| 71kB 3.4MB/s \n",
            "\u001b[?25hRequirement already satisfied: packaging in /usr/local/lib/python3.7/dist-packages (from keras-tuner) (20.9)\n",
            "Requirement already satisfied: future in /usr/local/lib/python3.7/dist-packages (from keras-tuner) (0.16.0)\n",
            "Requirement already satisfied: numpy in /usr/local/lib/python3.7/dist-packages (from keras-tuner) (1.19.5)\n",
            "Requirement already satisfied: tabulate in /usr/local/lib/python3.7/dist-packages (from keras-tuner) (0.8.9)\n",
            "Collecting terminaltables\n",
            "  Downloading https://files.pythonhosted.org/packages/9b/c4/4a21174f32f8a7e1104798c445dacdc1d4df86f2f26722767034e4de4bff/terminaltables-3.1.0.tar.gz\n",
            "Collecting colorama\n",
            "  Downloading https://files.pythonhosted.org/packages/44/98/5b86278fbbf250d239ae0ecb724f8572af1c91f4a11edf4d36a206189440/colorama-0.4.4-py2.py3-none-any.whl\n",
            "Requirement already satisfied: tqdm in /usr/local/lib/python3.7/dist-packages (from keras-tuner) (4.41.1)\n",
            "Requirement already satisfied: requests in /usr/local/lib/python3.7/dist-packages (from keras-tuner) (2.23.0)\n",
            "Requirement already satisfied: scipy in /usr/local/lib/python3.7/dist-packages (from keras-tuner) (1.4.1)\n",
            "Requirement already satisfied: scikit-learn in /usr/local/lib/python3.7/dist-packages (from keras-tuner) (0.22.2.post1)\n",
            "Requirement already satisfied: pyparsing>=2.0.2 in /usr/local/lib/python3.7/dist-packages (from packaging->keras-tuner) (2.4.7)\n",
            "Requirement already satisfied: urllib3!=1.25.0,!=1.25.1,<1.26,>=1.21.1 in /usr/local/lib/python3.7/dist-packages (from requests->keras-tuner) (1.24.3)\n",
            "Requirement already satisfied: certifi>=2017.4.17 in /usr/local/lib/python3.7/dist-packages (from requests->keras-tuner) (2020.12.5)\n",
            "Requirement already satisfied: chardet<4,>=3.0.2 in /usr/local/lib/python3.7/dist-packages (from requests->keras-tuner) (3.0.4)\n",
            "Requirement already satisfied: idna<3,>=2.5 in /usr/local/lib/python3.7/dist-packages (from requests->keras-tuner) (2.10)\n",
            "Requirement already satisfied: joblib>=0.11 in /usr/local/lib/python3.7/dist-packages (from scikit-learn->keras-tuner) (1.0.1)\n",
            "Building wheels for collected packages: keras-tuner, terminaltables\n",
            "  Building wheel for keras-tuner (setup.py) ... \u001b[?25l\u001b[?25hdone\n",
            "  Created wheel for keras-tuner: filename=keras_tuner-1.0.2-cp37-none-any.whl size=78938 sha256=300c9bc6d09d45e7d02281e07333e392acd3b25cf04487c34909fc57cb84ee04\n",
            "  Stored in directory: /root/.cache/pip/wheels/bb/a1/8a/7c3de0efb3707a1701b36ebbfdbc4e67aedf6d4943a1f463d6\n",
            "  Building wheel for terminaltables (setup.py) ... \u001b[?25l\u001b[?25hdone\n",
            "  Created wheel for terminaltables: filename=terminaltables-3.1.0-cp37-none-any.whl size=15356 sha256=e533f4cc4b1c305fe16d325dd936dca496dbe635384b58f1f59128d2df74a904\n",
            "  Stored in directory: /root/.cache/pip/wheels/30/6b/50/6c75775b681fb36cdfac7f19799888ef9d8813aff9e379663e\n",
            "Successfully built keras-tuner terminaltables\n",
            "Installing collected packages: terminaltables, colorama, keras-tuner\n",
            "Successfully installed colorama-0.4.4 keras-tuner-1.0.2 terminaltables-3.1.0\n"
          ],
          "name": "stdout"
        }
      ]
    },
    {
      "cell_type": "code",
      "metadata": {
        "id": "ZclVA8bNFd4d",
        "colab": {
          "base_uri": "https://localhost:8080/"
        },
        "outputId": "ff95eb57-9ae8-4fdd-fbe2-9856a8b5ef92"
      },
      "source": [
        "from keras.datasets import cifar10\n",
        "(X_train_orig, Y_train_orig) , (X_test_orig, Y_test_orig) = cifar10.load_data()"
      ],
      "execution_count": null,
      "outputs": [
        {
          "output_type": "stream",
          "text": [
            "Downloading data from https://www.cs.toronto.edu/~kriz/cifar-10-python.tar.gz\n",
            "170500096/170498071 [==============================] - 3s 0us/step\n"
          ],
          "name": "stdout"
        }
      ]
    },
    {
      "cell_type": "markdown",
      "metadata": {
        "id": "cQl0B7vHGrLD"
      },
      "source": [
        "## Preparing and normalizing the dataset\n"
      ]
    },
    {
      "cell_type": "code",
      "metadata": {
        "colab": {
          "base_uri": "https://localhost:8080/"
        },
        "id": "ZynrrnIBTfxS",
        "outputId": "6a04c816-2593-4e27-fb3a-fee5ccee7477"
      },
      "source": [
        "Y_train_orig = Y_train_orig.flatten()\n",
        "Y_test_orig = Y_test_orig.flatten()\n",
        "\n",
        "classes = ['airplane', 'automobile', 'bird', 'cat', 'deer', 'dog', 'frog', 'horse', 'ship', 'truck']\n",
        "\n",
        "plt.figure(figsize=(10,7))\n",
        "p = sns.countplot(Y_train_orig.flatten())\n",
        "p.set(xticklabels=classes)"
      ],
      "execution_count": null,
      "outputs": [
        {
          "output_type": "stream",
          "text": [
            "/usr/local/lib/python3.7/dist-packages/seaborn/_decorators.py:43: FutureWarning: Pass the following variable as a keyword arg: x. From version 0.12, the only valid positional argument will be `data`, and passing other arguments without an explicit keyword will result in an error or misinterpretation.\n",
            "  FutureWarning\n"
          ],
          "name": "stderr"
        },
        {
          "output_type": "execute_result",
          "data": {
            "text/plain": [
              "[[Text(0, 0, 'airplane'),\n",
              "  Text(0, 0, 'automobile'),\n",
              "  Text(0, 0, 'bird'),\n",
              "  Text(0, 0, 'cat'),\n",
              "  Text(0, 0, 'deer'),\n",
              "  Text(0, 0, 'dog'),\n",
              "  Text(0, 0, 'frog'),\n",
              "  Text(0, 0, 'horse'),\n",
              "  Text(0, 0, 'ship'),\n",
              "  Text(0, 0, 'truck')]]"
            ]
          },
          "metadata": {
            "tags": []
          },
          "execution_count": 5
        },
        {
          "output_type": "display_data",
          "data": {
            "image/png": "[encoded data removed]",
            "text/plain": [
              "<Figure size 720x504 with 1 Axes>"
            ]
          },
          "metadata": {
            "tags": [],
            "needs_background": "light"
          }
        }
      ]
    },
    {
      "cell_type": "code",
      "metadata": {
        "colab": {
          "base_uri": "https://localhost:8080/"
        },
        "id": "zucS2gNeUWuW",
        "outputId": "0bafee0c-71eb-4fa3-bf64-3fc56466a8d4"
      },
      "source": [
        "np.isnan(X_train_orig).any()\n",
        "np.isnan(X_test_orig).any()"
      ],
      "execution_count": null,
      "outputs": [
        {
          "output_type": "execute_result",
          "data": {
            "text/plain": [
              "False"
            ]
          },
          "metadata": {
            "tags": []
          },
          "execution_count": 6
        }
      ]
    },
    {
      "cell_type": "code",
      "metadata": {
        "colab": {
          "base_uri": "https://localhost:8080/"
        },
        "id": "tm3wSQ1GFt82",
        "outputId": "07d88ab2-bd05-4b95-ac6c-17428161b852"
      },
      "source": [
        "index = 3\n",
        "plt.imshow(X_train_orig[index])\n",
        "# print (\"y = \" + str(np.squeeze(Y_train_orig[:, index])))\n",
        "print(Y_train_orig[index])"
      ],
      "execution_count": null,
      "outputs": [
        {
          "output_type": "stream",
          "text": [
            "4\n"
          ],
          "name": "stdout"
        },
        {
          "output_type": "display_data",
          "data": {
            "image/png": "[encoded data removed]",
            "text/plain": [
              "<Figure size 504x288 with 1 Axes>"
            ]
          },
          "metadata": {
            "tags": [],
            "needs_background": "light"
          }
        }
      ]
    },
    {
      "cell_type": "code",
      "metadata": {
        "colab": {
          "base_uri": "https://localhost:8080/"
        },
        "id": "Sky-EpnZFw3F",
        "outputId": "6ea948d3-0958-4ffe-da0b-30318846a111"
      },
      "source": [
        "# input_shape = (32, 32, 3)\n",
        "\n",
        "# X_train_flatten= X_train_orig.reshape(X_train_orig.shape[0], X_train_orig.shape[1], X_train_orig.shape[2], 3)\n",
        "# train_x = X_train_flatten / 255.0\n",
        "# X_test_flatten = X_test_orig.reshape(X_test_orig.shape[0], X_test_orig.shape[1], X_test_orig.shape[2], 3)\n",
        "# test_x = X_test_flatten / 255.0\n",
        "\n",
        "# Flatten the training and test images\n",
        "X_train_flatten = X_train_orig.reshape(X_train_orig.shape[0], -1)\n",
        "X_test_flatten = X_test_orig.reshape(X_test_orig.shape[0], -1)\n",
        "\n",
        "# Normalize image vectors\n",
        "train_x = X_train_flatten/255.0\n",
        "test_x = X_test_flatten/255.0\n",
        "\n",
        "#Convert training and test labels to one hot matrices\n",
        "\n",
        "# Y_train_orig = tf.one_hot(Y_train_orig.astype(np.int32), depth=10)\n",
        "# Y_test_orig = tf.one_hot(Y_test_orig.astype(np.int32), depth=10)\n",
        "\n",
        "train_y = tf.one_hot(Y_train_orig.astype(np.int32), depth=10)\n",
        "test_y = tf.one_hot(Y_test_orig.astype(np.int32), depth=10)\n",
        "\n",
        "print (\"number of training examples = \" + str(train_x.shape[0]))\n",
        "print (\"number of test examples = \" + str(test_x.shape[0]))\n",
        "print (\"X_train shape: \" + str(train_x.shape))\n",
        "print (\"Y_train shape: \" + str(train_y.shape))\n",
        "print (\"X_test shape: \" + str(test_x.shape))\n",
        "print (\"Y_test shape: \" + str(test_y.shape))\n",
        "print(train_y[0])"
      ],
      "execution_count": null,
      "outputs": [
        {
          "output_type": "stream",
          "text": [
            "number of training examples = 50000\n",
            "number of test examples = 10000\n",
            "X_train shape: (50000, 3072)\n",
            "Y_train shape: (50000, 10)\n",
            "X_test shape: (10000, 3072)\n",
            "Y_test shape: (10000, 10)\n",
            "tf.Tensor([0. 0. 0. 0. 0. 0. 1. 0. 0. 0.], shape=(10,), dtype=float32)\n"
          ],
          "name": "stdout"
        }
      ]
    },
    {
      "cell_type": "code",
      "metadata": {
        "id": "W2Vsh-4VIQiq"
      },
      "source": [
        "class MyCustomCallback(tf.keras.callbacks.Callback):\n",
        "\n",
        "  def on_train_begin(self, batch, logs=None):\n",
        "    self.begins = time.time()\n",
        "    print('Training: begins at {}'.format(datetime.datetime.now(pytz.timezone('America/Fortaleza')).strftime(\"%Y-%m-%d %H:%M:%S\")))\n",
        "\n",
        "  def on_train_end(self, logs=None):\n",
        "    print('Training: ends at {}'.format(datetime.datetime.now(pytz.timezone('America/Fortaleza')).strftime(\"%Y-%m-%d %H:%M:%S\")))\n",
        "    print('Duration: {}s'.format(time.time() - self.begins))"
      ],
      "execution_count": null,
      "outputs": []
    },
    {
      "cell_type": "code",
      "metadata": {
        "id": "0bd7O7HoIROD"
      },
      "source": [
        "def print_analysis(titles,history):\n",
        "  loss = [\"loss\", \"val_loss\"]\n",
        "  accuracy = [\"categorical_accuracy\",\"val_categorical_accuracy\"]\n",
        "  f, axs = plt.subplots(1,2,figsize=(10,4))\n",
        "  \n",
        "  for i,item in enumerate([loss,accuracy]):\n",
        "    axs[i].plot(history.history[item[0]])\n",
        "    axs[i].plot(history.history[item[1]])\n",
        "    axs[i].set_ylabel(item[0])\n",
        "    axs[i].set_xlabel('epoch')\n",
        "    axs[i].legend(['train', 'test'], loc='best')\n",
        "\n",
        "  f.suptitle(titles, y=1.1)\n",
        "  plt.tight_layout()\n",
        "  plt.show()"
      ],
      "execution_count": null,
      "outputs": []
    },
    {
      "cell_type": "markdown",
      "metadata": {
        "id": "fXbOkojpHqEd"
      },
      "source": [
        "## Instantiating the model"
      ]
    },
    {
      "cell_type": "markdown",
      "metadata": {
        "id": "9NYSiXDZUbxW"
      },
      "source": [
        "We are going to instantiate a Model using standard hyperparameters. After that, we are going to train the model using hyperparameter tuning, and then retrain our first model with the best hyperparameters."
      ]
    },
    {
      "cell_type": "markdown",
      "metadata": {
        "id": "6a6Du2cWUsyl"
      },
      "source": [
        "### Standard Model"
      ]
    },
    {
      "cell_type": "code",
      "metadata": {
        "colab": {
          "base_uri": "https://localhost:8080/"
        },
        "id": "y1IiXu63Uwow",
        "outputId": "73a8b361-17a8-4b4c-df7f-5b5d4b144c58"
      },
      "source": [
        "model = tf.keras.Sequential([\n",
        "                                # tf.keras.layers.Conv2D(32, 3, padding='same', input_shape=train_x.shape[1:], activation='relu'),\n",
        "                                # tf.keras.layers.Conv2D(32, 3, activation='relu'),\n",
        "                                # tf.keras.layers.MaxPooling2D(),\n",
        "                                # tf.keras.layers.Dropout(0.25),\n",
        "\n",
        "                                # tf.keras.layers.Conv2D(64, 3, padding='same', activation='relu'),\n",
        "                                # tf.keras.layers.Conv2D(64, 3, activation='relu'),\n",
        "                                # tf.keras.layers.MaxPooling2D(),\n",
        "                                # tf.keras.layers.Dropout(0.25),\n",
        "\n",
        "                                tf.keras.layers.Flatten(),\n",
        "                                tf.keras.layers.Dense(512, activation='relu', kernel_regularizer=tf.keras.regularizers.l2(l=0.01)),\n",
        "                                tf.keras.layers.Dropout(0.5),\n",
        "                                tf.keras.layers.Dense(10, activation='softmax'),\n",
        "                             ])\n",
        "\n",
        "# Instantiate a logistic loss function that expects integer targets\n",
        "loss = tf.keras.losses.CategoricalCrossentropy()\n",
        "\n",
        "# # Instantiate an accuracy metric.\n",
        "accuracy = tf.keras.metrics.CategoricalAccuracy()\n",
        "\n",
        "# # Instantiate an optimizer using Hyperparameter Tuning.\n",
        "optimizer = tf.keras.optimizers.SGD(learning_rate=0.0001)\n",
        "\n",
        "# configure the optimizer, loss, and metrics to monitor.\n",
        "model.compile(optimizer=optimizer, loss=loss, metrics=[accuracy])\n",
        "\n",
        "# model.compile(optimizer=tf.keras.optimizers.RMSprop(learning_rate=0.0001, decay=1e-06),\n",
        "#             loss=loss, metrics=accuracy)\n",
        "\n",
        "\n",
        "history = model.fit(x=train_x,\n",
        "                  y=train_y,\n",
        "                  batch_size=32,\n",
        "                  epochs=15,\n",
        "                  validation_data=(test_x,test_y),\n",
        "                  callbacks=[MyCustomCallback()],\n",
        "                  verbose=2)"
      ],
      "execution_count": null,
      "outputs": [
        {
          "output_type": "stream",
          "text": [
            "Training: begins at 2021-03-22 14:00:26\n",
            "Epoch 1/15\n",
            "1563/1563 - 23s - loss: 11.1746 - categorical_accuracy: 0.1254 - val_loss: 10.9132 - val_categorical_accuracy: 0.2133\n",
            "Epoch 2/15\n",
            "1563/1563 - 22s - loss: 10.9423 - categorical_accuracy: 0.1735 - val_loss: 10.7952 - val_categorical_accuracy: 0.2518\n",
            "Epoch 3/15\n",
            "1563/1563 - 22s - loss: 10.8109 - categorical_accuracy: 0.2045 - val_loss: 10.7024 - val_categorical_accuracy: 0.2727\n",
            "Epoch 4/15\n",
            "1563/1563 - 21s - loss: 10.7140 - categorical_accuracy: 0.2256 - val_loss: 10.6197 - val_categorical_accuracy: 0.2849\n",
            "Epoch 5/15\n",
            "1563/1563 - 21s - loss: 10.6284 - categorical_accuracy: 0.2433 - val_loss: 10.5427 - val_categorical_accuracy: 0.2971\n",
            "Epoch 6/15\n",
            "1563/1563 - 21s - loss: 10.5519 - categorical_accuracy: 0.2528 - val_loss: 10.4706 - val_categorical_accuracy: 0.3118\n",
            "Epoch 7/15\n",
            "1563/1563 - 21s - loss: 10.4829 - categorical_accuracy: 0.2626 - val_loss: 10.4017 - val_categorical_accuracy: 0.3175\n",
            "Epoch 8/15\n",
            "1563/1563 - 21s - loss: 10.4133 - categorical_accuracy: 0.2719 - val_loss: 10.3359 - val_categorical_accuracy: 0.3232\n",
            "Epoch 9/15\n",
            "1563/1563 - 22s - loss: 10.3480 - categorical_accuracy: 0.2744 - val_loss: 10.2716 - val_categorical_accuracy: 0.3306\n",
            "Epoch 10/15\n",
            "1563/1563 - 22s - loss: 10.2854 - categorical_accuracy: 0.2821 - val_loss: 10.2091 - val_categorical_accuracy: 0.3320\n",
            "Epoch 11/15\n",
            "1563/1563 - 22s - loss: 10.2211 - categorical_accuracy: 0.2858 - val_loss: 10.1473 - val_categorical_accuracy: 0.3364\n",
            "Epoch 12/15\n",
            "1563/1563 - 22s - loss: 10.1604 - categorical_accuracy: 0.2900 - val_loss: 10.0874 - val_categorical_accuracy: 0.3405\n",
            "Epoch 13/15\n",
            "1563/1563 - 22s - loss: 10.1015 - categorical_accuracy: 0.2947 - val_loss: 10.0289 - val_categorical_accuracy: 0.3454\n",
            "Epoch 14/15\n",
            "1563/1563 - 22s - loss: 10.0429 - categorical_accuracy: 0.2987 - val_loss: 9.9705 - val_categorical_accuracy: 0.3457\n",
            "Epoch 15/15\n",
            "1563/1563 - 22s - loss: 9.9859 - categorical_accuracy: 0.3021 - val_loss: 9.9133 - val_categorical_accuracy: 0.3472\n",
            "Training: ends at 2021-03-22 14:05:53\n",
            "Duration: 326.8545198440552s\n"
          ],
          "name": "stdout"
        }
      ]
    },
    {
      "cell_type": "code",
      "metadata": {
        "id": "HjWit4F_W6TN",
        "colab": {
          "base_uri": "https://localhost:8080/"
        },
        "outputId": "25cbecee-dae1-4fe9-fcc6-03eda5b818ee"
      },
      "source": [
        "loss, acc = model.evaluate(x=train_x,y=train_y, batch_size=32)\n",
        "print('Train loss: %.3f - acc: %.3f' % (loss, acc))\n",
        "\n",
        "loss_, acc_ = model.evaluate(x=test_x,y=test_y, batch_size=32)\n",
        "print('Test loss: %.3f - acc: %.3f' % (loss_, acc_))"
      ],
      "execution_count": null,
      "outputs": [
        {
          "output_type": "stream",
          "text": [
            "1563/1563 [==============================] - 11s 7ms/step - loss: 9.9101 - categorical_accuracy: 0.3475\n",
            "Train loss: 9.910 - acc: 0.348\n",
            "313/313 [==============================] - 2s 7ms/step - loss: 9.9133 - categorical_accuracy: 0.3472\n",
            "Test loss: 9.913 - acc: 0.347\n"
          ],
          "name": "stdout"
        }
      ]
    },
    {
      "cell_type": "markdown",
      "metadata": {
        "id": "zQxUwWWhVuyi"
      },
      "source": [
        "### Using hyperparameter tuning to find the best hyperparameters"
      ]
    },
    {
      "cell_type": "code",
      "metadata": {
        "id": "MmXxt6zdIW_N"
      },
      "source": [
        "from kerastuner.tuners import RandomSearch\n",
        "\n",
        "# # Configure the random see for the reproducibility purposes\n",
        "# tf.random.set_seed(3)\n",
        "\n",
        "def build_model(hp):\n",
        "  # Instantiate a simple classification model\n",
        "  model = tf.keras.Sequential([\n",
        "                                # tf.keras.layers.Conv2D(32, 3, padding='same', input_shape=train_x.shape[1:], activation='relu'),\n",
        "                                # tf.keras.layers.Conv2D(32, 3, activation='relu'),\n",
        "                                # tf.keras.layers.MaxPooling2D(),\n",
        "                                # tf.keras.layers.Dropout(0.25),\n",
        "\n",
        "                                # tf.keras.layers.Conv2D(64, 3, padding='same', activation='relu'),\n",
        "                                # tf.keras.layers.Conv2D(64, 3, activation='relu'),\n",
        "                                # tf.keras.layers.MaxPooling2D(),\n",
        "                                # tf.keras.layers.Dropout(0.25),\n",
        "\n",
        "                                tf.keras.layers.Flatten(),\n",
        "                                tf.keras.layers.Dense(units=hp.Int('units',\n",
        "                                                                   min_value=32,\n",
        "                                                                   max_value=512,\n",
        "                                                                   step=32), activation='relu', kernel_regularizer=tf.keras.regularizers.l2(l=0.01)),\n",
        "                                tf.keras.layers.Dropout(0.5),\n",
        "                                tf.keras.layers.Dense(10, activation='softmax'),\n",
        "                              ])\n",
        "\n",
        "  # Instantiate a logistic loss function that expects integer targets\n",
        "  loss = tf.keras.losses.CategoricalCrossentropy()\n",
        "\n",
        "  # # Instantiate an accuracy metric.\n",
        "  accuracy = tf.keras.metrics.CategoricalAccuracy()\n",
        "\n",
        "  # # Instantiate an optimizer using Hyperparameter Tuning.\n",
        "  optimizer = tf.keras.optimizers.SGD(hp.Choice('learning_rate', values=[1e-2, 1e-3, 1e-4]))\n",
        "\n",
        "  # configure the optimizer, loss, and metrics to monitor.\n",
        "  model.compile(optimizer=optimizer, loss=loss, metrics=[accuracy])\n",
        "\n",
        "  # model.compile(optimizer=tf.keras.optimizers.RMSprop(learning_rate=0.0001, decay=1e-06),\n",
        "  #             loss=loss, metrics=accuracy)\n",
        "\n",
        "  return model"
      ],
      "execution_count": null,
      "outputs": []
    },
    {
      "cell_type": "code",
      "metadata": {
        "colab": {
          "base_uri": "https://localhost:8080/"
        },
        "id": "V61mS10QPTXt",
        "outputId": "fa59f97f-b972-4f95-b1d1-5c8afa2f3e7f"
      },
      "source": [
        "#Using tf hyperparameter tuning\n",
        "tuner = RandomSearch(\n",
        "    build_model,\n",
        "    objective='categorical_accuracy',\n",
        "    max_trials=3,\n",
        "    executions_per_trial=2,\n",
        "    directory='my_dir',\n",
        "    project_name='hp_tuning'\n",
        ")\n",
        "\n",
        "tuner.search(train_x,\n",
        "             train_y, \n",
        "             epochs=15,\n",
        "             verbose=2,\n",
        "             batch_size=32,\n",
        "             validation_data=(test_x, test_y)\n",
        ")"
      ],
      "execution_count": null,
      "outputs": [
        {
          "output_type": "stream",
          "text": [
            "Trial 3 Complete [00h 06m 59s]\n",
            "categorical_accuracy: 0.28621000051498413\n",
            "\n",
            "Best categorical_accuracy So Far: 0.3700699955224991\n",
            "Total elapsed time: 00h 14m 08s\n",
            "INFO:tensorflow:Oracle triggered exit\n"
          ],
          "name": "stdout"
        }
      ]
    },
    {
      "cell_type": "markdown",
      "metadata": {
        "id": "18OzG0ZxV2NF"
      },
      "source": [
        "### Retraining the model using the best hyperparameters"
      ]
    },
    {
      "cell_type": "code",
      "metadata": {
        "id": "z4E89YBlV55p"
      },
      "source": [
        "# print a summary of results\n",
        "tuner.results_summary(num_trials=10)"
      ],
      "execution_count": null,
      "outputs": []
    },
    {
      "cell_type": "code",
      "metadata": {
        "id": "wJPONUOeWN3G"
      },
      "source": [
        "# Build the model with the optimal hyperparameters and train it on the data\n",
        "best_hps = tuner.get_best_hyperparameters()[0]\n",
        "model = tuner.hypermodel.build(best_hps)\n",
        "model.fit(train_x, train_y, epochs = 20, validation_data = (test_x, test_y),batch_size=32)"
      ],
      "execution_count": null,
      "outputs": []
    },
    {
      "cell_type": "code",
      "metadata": {
        "id": "Amwav20ZIiHM"
      },
      "source": [
        "loss, acc = model.evaluate(x=train_x,y=train_y, batch_size=32)\n",
        "print('Train loss: %.3f - acc: %.3f' % (loss, acc))\n",
        "\n",
        "loss_, acc_ = model.evaluate(x=test_x,y=test_y, batch_size=32)\n",
        "print('Test loss: %.3f - acc: %.3f' % (loss_, acc_))"
      ],
      "execution_count": null,
      "outputs": []
    },
    {
      "cell_type": "markdown",
      "metadata": {
        "id": "MeTLRJmRHzBL"
      },
      "source": [
        "## Testing other parameters"
      ]
    },
    {
      "cell_type": "code",
      "metadata": {
        "id": "cjUAyS5BIvnD"
      },
      "source": [
        "print(\"Number of parameters %.d\" % model.count_params())"
      ],
      "execution_count": null,
      "outputs": []
    },
    {
      "cell_type": "code",
      "metadata": {
        "id": "rHdc0nzqIyBS"
      },
      "source": [
        "model.summary()"
      ],
      "execution_count": null,
      "outputs": []
    },
    {
      "cell_type": "code",
      "metadata": {
        "id": "KFF4Ole7JR18"
      },
      "source": [
        "# example of converting an image with the Keras API\n",
        "from tensorflow.keras.preprocessing.image import load_img\n",
        "from tensorflow.keras.preprocessing.image import img_to_array\n",
        "from tensorflow.keras.preprocessing.image import array_to_img\n",
        "from skimage.transform import resize\n",
        "\n",
        "# load the image\n",
        "img = load_img('air2.jpg')\n",
        "\n",
        "# convert to numpy array\n",
        "img_array = img_to_array(img)/255\n",
        "img_array_res = resize(img_array, (32,32)).reshape((1, 32*32*3))\n",
        "\n",
        "print(img_array_res.dtype)\n",
        "print(img_array_res.shape)\n",
        "\n",
        "plt.imshow(img_array)"
      ],
      "execution_count": null,
      "outputs": []
    }
  ]
}